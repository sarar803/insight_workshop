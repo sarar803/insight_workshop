{
 "cells": [
  {
   "cell_type": "code",
   "execution_count": 74,
   "metadata": {},
   "outputs": [],
   "source": [
    "import numpy as np\n",
    "from numpy import random\n",
    "import matplotlib.pyplot as plt\n",
    "import pandas as pd\n",
    "import statsmodels.formula.api as sm"
   ]
  },
  {
   "cell_type": "markdown",
   "metadata": {},
   "source": [
    "## Make up some data\n",
    "Pretend you have data on website revenue for 100 days before and after a website change (at day 50)\n"
   ]
  },
  {
   "cell_type": "code",
   "execution_count": 139,
   "metadata": {},
   "outputs": [
    {
     "data": {
      "text/plain": [
       "array([ 2.63014213,  3.42658593,  4.17837094,  3.2688263 ,  0.18510977,\n",
       "        0.90077832,  3.80284709,  1.12152309,  3.67567536,  1.43745231,\n",
       "        3.66390003,  0.5382374 ,  0.46926081,  3.91594537,  2.59798697,\n",
       "        4.52548416,  1.98869187,  1.25809313,  4.67263906,  0.41240389,\n",
       "        2.12751314,  3.74363028,  1.25207022,  2.32958613,  0.98911568,\n",
       "        1.23436778,  1.76725255,  4.05174868,  4.04983153,  4.19031569,\n",
       "        4.60498885,  2.61308378,  3.40095245,  0.79171023,  1.90769231,\n",
       "        3.89568791,  3.62258151,  4.68186423,  1.43364305,  1.28800497,\n",
       "        1.519268  ,  0.99619117,  1.4711901 ,  2.85976699,  4.93338582,\n",
       "        4.86181445,  0.27724644,  0.71175544,  2.76461846,  2.75533212,\n",
       "       13.48234593, 11.93069667, 12.13425727, 14.25657385, 15.59734485,\n",
       "       14.6155323 , 17.90382099, 16.92414869, 16.40465951, 16.46058759,\n",
       "       16.71589008, 19.14524854, 18.19286122, 16.79838948, 18.99022128,\n",
       "       21.18997703, 18.91245865, 19.37725878, 21.65775687, 22.15913794,\n",
       "       23.17200479, 24.74715897, 24.62227662, 24.55511755, 25.61221691,\n",
       "       24.11479457, 24.80894328, 24.64131615, 25.46857023, 27.65488062,\n",
       "       25.4605247 , 27.66850586, 28.15431382, 28.96842549, 29.12915145,\n",
       "       29.06130611, 30.13175653, 32.96694582, 33.72080009, 32.00918338,\n",
       "       33.11976476, 31.07809198, 32.58642741, 33.57413106, 36.33154579,\n",
       "       33.75227683, 35.41517132, 38.42779893, 36.5974256 , 37.56447263])"
      ]
     },
     "execution_count": 139,
     "metadata": {},
     "output_type": "execute_result"
    }
   ],
   "source": [
    "#x is the day number \n",
    "time_1 = np.arange(0,50)\n",
    "time_2 = np.arange(50,100)\n",
    "time=np.append(time_1,time_2)\n",
    "\n",
    "#create revenue data\n",
    "#create some random noise\n",
    "random.seed(222) \n",
    "delta_1 = np.random.uniform(0,5, size=(50,))\n",
    "random.seed(123) \n",
    "delta_2 = np.random.uniform(0,5, size=(50,))\n",
    "y_1 = delta_1\n",
    "y_2 = delta_2+ .5*(x_1)+10\n",
    "y=np.append(y_1,y_2)\n",
    "y\n"
   ]
  },
  {
   "cell_type": "code",
   "execution_count": 140,
   "metadata": {},
   "outputs": [
    {
     "data": {
      "text/plain": [
       "[<matplotlib.lines.Line2D at 0x1c212efa90>]"
      ]
     },
     "execution_count": 140,
     "metadata": {},
     "output_type": "execute_result"
    },
    {
     "data": {
      "image/png": "[encoded data removed]",
      "text/plain": [
       "<Figure size 432x288 with 1 Axes>"
      ]
     },
     "metadata": {},
     "output_type": "display_data"
    }
   ],
   "source": [
    "#plot the revenue over time \n",
    "plt.plot(time,y)"
   ]
  },
  {
   "cell_type": "code",
   "execution_count": 141,
   "metadata": {},
   "outputs": [],
   "source": [
    "#create a data frame\n",
    "df = pd.DataFrame(data={'time': time, 'y': y}, columns=['time', 'y'])\n",
    "#create a dummy variable for pre/post intervention\n",
    "df['intervention'] = np.where(df['time']<50, 0, 1) \n",
    "df['time_after_intervention'] = np.where(df['time']<50, 0, df['time']-50) \n",
    "\n"
   ]
  },
  {
   "cell_type": "code",
   "execution_count": 142,
   "metadata": {},
   "outputs": [],
   "source": [
    "result = sm.ols(formula=\"y~ time + intervention+time_after_intervention\", data=df).fit()"
   ]
  },
  {
   "cell_type": "code",
   "execution_count": 143,
   "metadata": {},
   "outputs": [
    {
     "name": "stdout",
     "output_type": "stream",
     "text": [
      "                            OLS Regression Results                            \n",
      "==============================================================================\n",
      "Dep. Variable:                      y   R-squared:                       0.989\n",
      "Model:                            OLS   Adj. R-squared:                  0.988\n",
      "Method:                 Least Squares   F-statistic:                     2815.\n",
      "Date:                Thu, 09 Aug 2018   Prob (F-statistic):           2.15e-93\n",
      "Time:                        11:56:00   Log-Likelihood:                -168.62\n",
      "No. Observations:                 100   AIC:                             345.2\n",
      "Df Residuals:                      96   BIC:                             355.7\n",
      "Df Model:                           3                                         \n",
      "Covariance Type:            nonrobust                                         \n",
      "===========================================================================================\n",
      "                              coef    std err          t      P>|t|      [0.025      0.975]\n",
      "-------------------------------------------------------------------------------------------\n",
      "Intercept                   2.4846      0.372      6.687      0.000       1.747       3.222\n",
      "time                        0.0013      0.013      0.098      0.922      -0.025       0.027\n",
      "intervention                9.8702      0.533     18.501      0.000       8.811      10.929\n",
      "time_after_intervention     0.5024      0.018     27.189      0.000       0.466       0.539\n",
      "==============================================================================\n",
      "Omnibus:                       17.982   Durbin-Watson:                   1.783\n",
      "Prob(Omnibus):                  0.000   Jarque-Bera (JB):                4.883\n",
      "Skew:                           0.120   Prob(JB):                       0.0870\n",
      "Kurtosis:                       1.944   Cond. No.                         252.\n",
      "==============================================================================\n",
      "\n",
      "Warnings:\n",
      "[1] Standard Errors assume that the covariance matrix of the errors is correctly specified.\n"
     ]
    }
   ],
   "source": [
    "print(result.summary())"
   ]
  },
  {
   "cell_type": "code",
   "execution_count": null,
   "metadata": {},
   "outputs": [],
   "source": []
  }
 ],
 "metadata": {
  "kernelspec": {
   "display_name": "Python 3",
   "language": "python",
   "name": "python3"
  },
  "language_info": {
   "codemirror_mode": {
    "name": "ipython",
    "version": 3
   },
   "file_extension": ".py",
   "mimetype": "text/x-python",
   "name": "python",
   "nbconvert_exporter": "python",
   "pygments_lexer": "ipython3",
   "version": "3.6.6"
  }
 },
 "nbformat": 4,
 "nbformat_minor": 2
}
